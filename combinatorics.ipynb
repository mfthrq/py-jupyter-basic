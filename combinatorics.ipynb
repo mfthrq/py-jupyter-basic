{
 "cells": [
  {
   "cell_type": "markdown",
   "metadata": {},
   "source": [
    "Combinatorics"
   ]
  },
  {
   "cell_type": "code",
   "execution_count": 1,
   "metadata": {},
   "outputs": [],
   "source": [
    "# Permutation\n",
    "\n",
    "from itertools import permutations"
   ]
  },
  {
   "cell_type": "code",
   "execution_count": 3,
   "metadata": {},
   "outputs": [
    {
     "name": "stdout",
     "output_type": "stream",
     "text": [
      "('D', 'F', 'L', 'A', 'I')\n",
      "('D', 'F', 'L', 'I', 'A')\n",
      "('D', 'F', 'A', 'L', 'I')\n",
      "('D', 'F', 'A', 'I', 'L')\n",
      "('D', 'F', 'I', 'L', 'A')\n",
      "('D', 'F', 'I', 'A', 'L')\n",
      "('D', 'L', 'F', 'A', 'I')\n",
      "('D', 'L', 'F', 'I', 'A')\n",
      "('D', 'L', 'A', 'F', 'I')\n",
      "('D', 'L', 'A', 'I', 'F')\n",
      "('D', 'L', 'I', 'F', 'A')\n",
      "('D', 'L', 'I', 'A', 'F')\n",
      "('D', 'A', 'F', 'L', 'I')\n",
      "('D', 'A', 'F', 'I', 'L')\n",
      "('D', 'A', 'L', 'F', 'I')\n",
      "('D', 'A', 'L', 'I', 'F')\n",
      "('D', 'A', 'I', 'F', 'L')\n",
      "('D', 'A', 'I', 'L', 'F')\n",
      "('D', 'I', 'F', 'L', 'A')\n",
      "('D', 'I', 'F', 'A', 'L')\n",
      "('D', 'I', 'L', 'F', 'A')\n",
      "('D', 'I', 'L', 'A', 'F')\n",
      "('D', 'I', 'A', 'F', 'L')\n",
      "('D', 'I', 'A', 'L', 'F')\n",
      "('F', 'D', 'L', 'A', 'I')\n",
      "('F', 'D', 'L', 'I', 'A')\n",
      "('F', 'D', 'A', 'L', 'I')\n",
      "('F', 'D', 'A', 'I', 'L')\n",
      "('F', 'D', 'I', 'L', 'A')\n",
      "('F', 'D', 'I', 'A', 'L')\n",
      "('F', 'L', 'D', 'A', 'I')\n",
      "('F', 'L', 'D', 'I', 'A')\n",
      "('F', 'L', 'A', 'D', 'I')\n",
      "('F', 'L', 'A', 'I', 'D')\n",
      "('F', 'L', 'I', 'D', 'A')\n",
      "('F', 'L', 'I', 'A', 'D')\n",
      "('F', 'A', 'D', 'L', 'I')\n",
      "('F', 'A', 'D', 'I', 'L')\n",
      "('F', 'A', 'L', 'D', 'I')\n",
      "('F', 'A', 'L', 'I', 'D')\n",
      "('F', 'A', 'I', 'D', 'L')\n",
      "('F', 'A', 'I', 'L', 'D')\n",
      "('F', 'I', 'D', 'L', 'A')\n",
      "('F', 'I', 'D', 'A', 'L')\n",
      "('F', 'I', 'L', 'D', 'A')\n",
      "('F', 'I', 'L', 'A', 'D')\n",
      "('F', 'I', 'A', 'D', 'L')\n",
      "('F', 'I', 'A', 'L', 'D')\n",
      "('L', 'D', 'F', 'A', 'I')\n",
      "('L', 'D', 'F', 'I', 'A')\n",
      "('L', 'D', 'A', 'F', 'I')\n",
      "('L', 'D', 'A', 'I', 'F')\n",
      "('L', 'D', 'I', 'F', 'A')\n",
      "('L', 'D', 'I', 'A', 'F')\n",
      "('L', 'F', 'D', 'A', 'I')\n",
      "('L', 'F', 'D', 'I', 'A')\n",
      "('L', 'F', 'A', 'D', 'I')\n",
      "('L', 'F', 'A', 'I', 'D')\n",
      "('L', 'F', 'I', 'D', 'A')\n",
      "('L', 'F', 'I', 'A', 'D')\n",
      "('L', 'A', 'D', 'F', 'I')\n",
      "('L', 'A', 'D', 'I', 'F')\n",
      "('L', 'A', 'F', 'D', 'I')\n",
      "('L', 'A', 'F', 'I', 'D')\n",
      "('L', 'A', 'I', 'D', 'F')\n",
      "('L', 'A', 'I', 'F', 'D')\n",
      "('L', 'I', 'D', 'F', 'A')\n",
      "('L', 'I', 'D', 'A', 'F')\n",
      "('L', 'I', 'F', 'D', 'A')\n",
      "('L', 'I', 'F', 'A', 'D')\n",
      "('L', 'I', 'A', 'D', 'F')\n",
      "('L', 'I', 'A', 'F', 'D')\n",
      "('A', 'D', 'F', 'L', 'I')\n",
      "('A', 'D', 'F', 'I', 'L')\n",
      "('A', 'D', 'L', 'F', 'I')\n",
      "('A', 'D', 'L', 'I', 'F')\n",
      "('A', 'D', 'I', 'F', 'L')\n",
      "('A', 'D', 'I', 'L', 'F')\n",
      "('A', 'F', 'D', 'L', 'I')\n",
      "('A', 'F', 'D', 'I', 'L')\n",
      "('A', 'F', 'L', 'D', 'I')\n",
      "('A', 'F', 'L', 'I', 'D')\n",
      "('A', 'F', 'I', 'D', 'L')\n",
      "('A', 'F', 'I', 'L', 'D')\n",
      "('A', 'L', 'D', 'F', 'I')\n",
      "('A', 'L', 'D', 'I', 'F')\n",
      "('A', 'L', 'F', 'D', 'I')\n",
      "('A', 'L', 'F', 'I', 'D')\n",
      "('A', 'L', 'I', 'D', 'F')\n",
      "('A', 'L', 'I', 'F', 'D')\n",
      "('A', 'I', 'D', 'F', 'L')\n",
      "('A', 'I', 'D', 'L', 'F')\n",
      "('A', 'I', 'F', 'D', 'L')\n",
      "('A', 'I', 'F', 'L', 'D')\n",
      "('A', 'I', 'L', 'D', 'F')\n",
      "('A', 'I', 'L', 'F', 'D')\n",
      "('I', 'D', 'F', 'L', 'A')\n",
      "('I', 'D', 'F', 'A', 'L')\n",
      "('I', 'D', 'L', 'F', 'A')\n",
      "('I', 'D', 'L', 'A', 'F')\n",
      "('I', 'D', 'A', 'F', 'L')\n",
      "('I', 'D', 'A', 'L', 'F')\n",
      "('I', 'F', 'D', 'L', 'A')\n",
      "('I', 'F', 'D', 'A', 'L')\n",
      "('I', 'F', 'L', 'D', 'A')\n",
      "('I', 'F', 'L', 'A', 'D')\n",
      "('I', 'F', 'A', 'D', 'L')\n",
      "('I', 'F', 'A', 'L', 'D')\n",
      "('I', 'L', 'D', 'F', 'A')\n",
      "('I', 'L', 'D', 'A', 'F')\n",
      "('I', 'L', 'F', 'D', 'A')\n",
      "('I', 'L', 'F', 'A', 'D')\n",
      "('I', 'L', 'A', 'D', 'F')\n",
      "('I', 'L', 'A', 'F', 'D')\n",
      "('I', 'A', 'D', 'F', 'L')\n",
      "('I', 'A', 'D', 'L', 'F')\n",
      "('I', 'A', 'F', 'D', 'L')\n",
      "('I', 'A', 'F', 'L', 'D')\n",
      "('I', 'A', 'L', 'D', 'F')\n",
      "('I', 'A', 'L', 'F', 'D')\n"
     ]
    }
   ],
   "source": [
    "huruf = {'F', 'A', 'D', 'I', 'L'}\n",
    "perm = permutations(huruf)\n",
    "\n",
    "for i in list(perm):\n",
    "    print(i)"
   ]
  },
  {
   "cell_type": "code",
   "execution_count": 4,
   "metadata": {},
   "outputs": [
    {
     "name": "stdout",
     "output_type": "stream",
     "text": [
      "('D', 'F')\n",
      "('D', 'L')\n",
      "('D', 'A')\n",
      "('D', 'I')\n",
      "('F', 'D')\n",
      "('F', 'L')\n",
      "('F', 'A')\n",
      "('F', 'I')\n",
      "('L', 'D')\n",
      "('L', 'F')\n",
      "('L', 'A')\n",
      "('L', 'I')\n",
      "('A', 'D')\n",
      "('A', 'F')\n",
      "('A', 'L')\n",
      "('A', 'I')\n",
      "('I', 'D')\n",
      "('I', 'F')\n",
      "('I', 'L')\n",
      "('I', 'A')\n"
     ]
    }
   ],
   "source": [
    "perm_num = permutations(huruf, 2)\n",
    "\n",
    "for i in list(perm_num):\n",
    "    print(i)\n",
    "\n",
    "# math form perm = n! / (n-k)!"
   ]
  },
  {
   "cell_type": "code",
   "execution_count": 5,
   "metadata": {},
   "outputs": [],
   "source": [
    "# Combinations\n",
    "\n",
    "from itertools import combinations"
   ]
  },
  {
   "cell_type": "code",
   "execution_count": 15,
   "metadata": {},
   "outputs": [],
   "source": [
    "orang = {'Rojak', 'Wawan', 'Jubaedah', 'Asep'}"
   ]
  },
  {
   "cell_type": "code",
   "execution_count": 16,
   "metadata": {},
   "outputs": [
    {
     "name": "stdout",
     "output_type": "stream",
     "text": [
      "('Asep', 'Jubaedah', 'Rojak')\n",
      "('Asep', 'Jubaedah', 'Wawan')\n",
      "('Asep', 'Rojak', 'Wawan')\n",
      "('Jubaedah', 'Rojak', 'Wawan')\n"
     ]
    }
   ],
   "source": [
    "combs = combinations(orang,3)\n",
    "\n",
    "for i in list(combs):\n",
    "    print(i)\n",
    "\n",
    "# math form comb  = nCk= (n k) = n! / k!(n-k)!"
   ]
  },
  {
   "cell_type": "code",
   "execution_count": null,
   "metadata": {},
   "outputs": [],
   "source": []
  }
 ],
 "metadata": {
  "kernelspec": {
   "display_name": "Python 3.7.4 32-bit",
   "language": "python",
   "name": "python3"
  },
  "language_info": {
   "codemirror_mode": {
    "name": "ipython",
    "version": 3
   },
   "file_extension": ".py",
   "mimetype": "text/x-python",
   "name": "python",
   "nbconvert_exporter": "python",
   "pygments_lexer": "ipython3",
   "version": "3.7.4"
  },
  "orig_nbformat": 4,
  "vscode": {
   "interpreter": {
    "hash": "bc2db3663244fe914b32f18679e270e97648485d1e78075910f04c2faf745503"
   }
  }
 },
 "nbformat": 4,
 "nbformat_minor": 2
}
