{
 "cells": [
  {
   "cell_type": "markdown",
   "metadata": {},
   "source": [
    "Outlier"
   ]
  },
  {
   "cell_type": "code",
   "execution_count": 1,
   "metadata": {},
   "outputs": [],
   "source": [
    "import numpy as np\n",
    "import pandas as pd\n",
    "import matplotlib.pyplot as plt\n",
    "import seaborn as sns\n"
   ]
  },
  {
   "cell_type": "code",
   "execution_count": 3,
   "metadata": {},
   "outputs": [],
   "source": [
    "data = [5, 7, 9, 3, 4, -20, 3, 8, 8, 6, 90, 7, 56]"
   ]
  },
  {
   "cell_type": "code",
   "execution_count": 6,
   "metadata": {},
   "outputs": [],
   "source": [
    "q1 = np.quantile(data, .25) # kuartil 1\n",
    "q3 = np.quantile(data, .75) # kuartil 3\n",
    "iqr = q3 - q1 # Interquartile Range"
   ]
  },
  {
   "cell_type": "code",
   "execution_count": 8,
   "metadata": {},
   "outputs": [
    {
     "name": "stdout",
     "output_type": "stream",
     "text": [
      "4.0\n",
      "8.0\n",
      "4.0\n"
     ]
    }
   ],
   "source": [
    "print(q1)\n",
    "print(q3)\n",
    "print(iqr)"
   ]
  },
  {
   "cell_type": "code",
   "execution_count": 9,
   "metadata": {},
   "outputs": [
    {
     "name": "stdout",
     "output_type": "stream",
     "text": [
      "iqr minimum : -2.0\n",
      "iqr maximum : 14.0\n"
     ]
    }
   ],
   "source": [
    "min_iqr = q1 - 1.5 * iqr\n",
    "max_iqr = q3 + 1.5 * iqr\n",
    "\n",
    "print(\"iqr minimum :\", min_iqr)\n",
    "print(\"iqr maximum :\", max_iqr)"
   ]
  },
  {
   "cell_type": "code",
   "execution_count": 10,
   "metadata": {},
   "outputs": [
    {
     "name": "stdout",
     "output_type": "stream",
     "text": [
      "nilai min data : -20\n",
      "nilai max data : 90\n"
     ]
    }
   ],
   "source": [
    "nilai_min = np.min(data)\n",
    "nilai_max = np.max(data)\n",
    "\n",
    "print(\"nilai min data :\", nilai_min)\n",
    "print(\"nilai max data :\", nilai_max)"
   ]
  },
  {
   "cell_type": "code",
   "execution_count": 14,
   "metadata": {},
   "outputs": [
    {
     "name": "stdout",
     "output_type": "stream",
     "text": [
      "low outlier :  [-20]\n",
      "high outlier :  [90, 56]\n"
     ]
    }
   ],
   "source": [
    "low_outlier = []\n",
    "high_outlier = []\n",
    "\n",
    "for i in data:\n",
    "    if(i < min_iqr):\n",
    "        low_outlier.append(i)\n",
    "    if(i > max_iqr):\n",
    "        high_outlier.append(i)\n",
    "        \n",
    "print('low outlier : ', low_outlier)\n",
    "print('high outlier : ', high_outlier)"
   ]
  },
  {
   "cell_type": "code",
   "execution_count": 44,
   "metadata": {},
   "outputs": [
    {
     "data": {
      "text/html": [
       "<div>\n",
       "<style scoped>\n",
       "    .dataframe tbody tr th:only-of-type {\n",
       "        vertical-align: middle;\n",
       "    }\n",
       "\n",
       "    .dataframe tbody tr th {\n",
       "        vertical-align: top;\n",
       "    }\n",
       "\n",
       "    .dataframe thead th {\n",
       "        text-align: right;\n",
       "    }\n",
       "</style>\n",
       "<table border=\"1\" class=\"dataframe\">\n",
       "  <thead>\n",
       "    <tr style=\"text-align: right;\">\n",
       "      <th></th>\n",
       "      <th>fare</th>\n",
       "      <th>n_pax</th>\n",
       "    </tr>\n",
       "  </thead>\n",
       "  <tbody>\n",
       "    <tr>\n",
       "      <th>0</th>\n",
       "      <td>7.5</td>\n",
       "      <td>1</td>\n",
       "    </tr>\n",
       "    <tr>\n",
       "      <th>1</th>\n",
       "      <td>7.7</td>\n",
       "      <td>1</td>\n",
       "    </tr>\n",
       "    <tr>\n",
       "      <th>2</th>\n",
       "      <td>12.9</td>\n",
       "      <td>1</td>\n",
       "    </tr>\n",
       "    <tr>\n",
       "      <th>3</th>\n",
       "      <td>5.3</td>\n",
       "      <td>3</td>\n",
       "    </tr>\n",
       "    <tr>\n",
       "      <th>4</th>\n",
       "      <td>16.0</td>\n",
       "      <td>5</td>\n",
       "    </tr>\n",
       "    <tr>\n",
       "      <th>5</th>\n",
       "      <td>10.0</td>\n",
       "      <td>2</td>\n",
       "    </tr>\n",
       "    <tr>\n",
       "      <th>6</th>\n",
       "      <td>12.0</td>\n",
       "      <td>4</td>\n",
       "    </tr>\n",
       "    <tr>\n",
       "      <th>7</th>\n",
       "      <td>13.0</td>\n",
       "      <td>5</td>\n",
       "    </tr>\n",
       "    <tr>\n",
       "      <th>8</th>\n",
       "      <td>13.3</td>\n",
       "      <td>7</td>\n",
       "    </tr>\n",
       "    <tr>\n",
       "      <th>9</th>\n",
       "      <td>8.5</td>\n",
       "      <td>5</td>\n",
       "    </tr>\n",
       "  </tbody>\n",
       "</table>\n",
       "</div>"
      ],
      "text/plain": [
       "   fare  n_pax\n",
       "0   7.5      1\n",
       "1   7.7      1\n",
       "2  12.9      1\n",
       "3   5.3      3\n",
       "4  16.0      5\n",
       "5  10.0      2\n",
       "6  12.0      4\n",
       "7  13.0      5\n",
       "8  13.3      7\n",
       "9   8.5      5"
      ]
     },
     "execution_count": 44,
     "metadata": {},
     "output_type": "execute_result"
    }
   ],
   "source": [
    "# contoh data lain\n",
    "# data jumlah penumpang dan tarif taksi\n",
    "\n",
    "data_taksi = {\n",
    "    'fare' : [7.5, 7.7, 12.9, 5.3, 16.0, 10, 12, 13, 13.3, 8.5], \n",
    "    'n_pax' : [1,1,1,3,5,2,4,5,7,5]\n",
    "}\n",
    "\n",
    "df = pd.DataFrame(data_taksi)\n",
    "df"
   ]
  },
  {
   "cell_type": "code",
   "execution_count": 45,
   "metadata": {},
   "outputs": [
    {
     "data": {
      "image/png": "[encoded data removed]",
      "text/plain": [
       "<Figure size 640x480 with 1 Axes>"
      ]
     },
     "metadata": {},
     "output_type": "display_data"
    },
    {
     "name": "stdout",
     "output_type": "stream",
     "text": [
      "mean = 3.4\n",
      "median = 3.5\n"
     ]
    }
   ],
   "source": [
    "sns.histplot(df, x='n_pax', bins=100)\n",
    "plt.axvline(df.n_pax.mean(), color=\"r\", linestyle=\"--\", label = \"mean\")\n",
    "plt.axvline(df.n_pax.median(), color=\"b\", linestyle=\"--\", label = \"median\")\n",
    "plt.legend()\n",
    "plt.show()\n",
    "\n",
    "print(f'mean = {df.n_pax.mean()}')\n",
    "print(f'median = {df.n_pax.median()}')"
   ]
  },
  {
   "cell_type": "code",
   "execution_count": null,
   "metadata": {},
   "outputs": [],
   "source": []
  }
 ],
 "metadata": {
  "kernelspec": {
   "display_name": "Python 3.7.4 32-bit",
   "language": "python",
   "name": "python3"
  },
  "language_info": {
   "codemirror_mode": {
    "name": "ipython",
    "version": 3
   },
   "file_extension": ".py",
   "mimetype": "text/x-python",
   "name": "python",
   "nbconvert_exporter": "python",
   "pygments_lexer": "ipython3",
   "version": "3.7.4"
  },
  "orig_nbformat": 4,
  "vscode": {
   "interpreter": {
    "hash": "bc2db3663244fe914b32f18679e270e97648485d1e78075910f04c2faf745503"
   }
  }
 },
 "nbformat": 4,
 "nbformat_minor": 2
}
