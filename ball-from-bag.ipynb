{
 "cells": [
  {
   "cell_type": "markdown",
   "metadata": {},
   "source": [
    "Ball from bag probs"
   ]
  },
  {
   "cell_type": "markdown",
   "metadata": {},
   "source": [
    "6 blue, 9 red and 8 white balls in one bag. Take 6 balls randomly."
   ]
  },
  {
   "cell_type": "code",
   "execution_count": 7,
   "metadata": {},
   "outputs": [
    {
     "data": {
      "text/plain": [
       "{'B1',\n",
       " 'B2',\n",
       " 'B3',\n",
       " 'B4',\n",
       " 'B5',\n",
       " 'B6',\n",
       " 'R1',\n",
       " 'R2',\n",
       " 'R3',\n",
       " 'R4',\n",
       " 'R5',\n",
       " 'R6',\n",
       " 'W1',\n",
       " 'W2',\n",
       " 'W3',\n",
       " 'W4',\n",
       " 'W5',\n",
       " 'W6'}"
      ]
     },
     "execution_count": 7,
     "metadata": {},
     "output_type": "execute_result"
    }
   ],
   "source": [
    "import itertools\n",
    "import random\n",
    "from fractions import Fraction\n",
    "\n",
    "def P(event, space):\n",
    "    favorable = set.intersection\n",
    "    cases = len\n",
    "    return Fraction(cases(favorable(event, space)),\n",
    "                    cases(space))\n",
    "\n",
    "def combos(items, n):\n",
    "    # all combs of n items; each comb as a space-sep str\n",
    "    return set(map(' '.join, itertools.combinations(items,n)))\n",
    "    \n",
    "def balls(color, n):\n",
    "    # a set of n numbered balls of the given color\n",
    "    return {color + str(i)\n",
    "    for i in range(1, n+1)}\n",
    "    \n",
    "urn = balls('B', 6) | balls('R', 6) | balls('W', 6)\n",
    "urn"
   ]
  },
  {
   "cell_type": "code",
   "execution_count": 8,
   "metadata": {},
   "outputs": [
    {
     "data": {
      "text/plain": [
       "['W3 R1 R6 W4 R3 R4',\n",
       " 'W6 R1 B3 B6 R6 R5',\n",
       " 'B3 R6 W4 W5 R2 R4',\n",
       " 'W3 B3 B5 W5 R3 R2',\n",
       " 'W2 B3 W4 B2 R5 B1',\n",
       " 'W6 B5 W4 W5 B2 R5']"
      ]
     },
     "execution_count": 8,
     "metadata": {},
     "output_type": "execute_result"
    }
   ],
   "source": [
    "# sample space for combs of 6 balls\n",
    "\n",
    "u6 = combos(urn, 6)\n",
    "random.sample(u6, 6)\n",
    " \n",
    " "
   ]
  },
  {
   "cell_type": "code",
   "execution_count": null,
   "metadata": {},
   "outputs": [],
   "source": []
  }
 ],
 "metadata": {
  "kernelspec": {
   "display_name": "Python 3.7.4 32-bit",
   "language": "python",
   "name": "python3"
  },
  "language_info": {
   "codemirror_mode": {
    "name": "ipython",
    "version": 3
   },
   "file_extension": ".py",
   "mimetype": "text/x-python",
   "name": "python",
   "nbconvert_exporter": "python",
   "pygments_lexer": "ipython3",
   "version": "3.7.4"
  },
  "orig_nbformat": 4,
  "vscode": {
   "interpreter": {
    "hash": "bc2db3663244fe914b32f18679e270e97648485d1e78075910f04c2faf745503"
   }
  }
 },
 "nbformat": 4,
 "nbformat_minor": 2
}
